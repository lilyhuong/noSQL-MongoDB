{
 "cells": [
  {
   "cell_type": "code",
   "execution_count": 1,
   "metadata": {},
   "outputs": [],
   "source": [
    "#install pymongo: python -m pip install pymongo\n",
    "from pymongo import MongoClient"
   ]
  },
  {
   "cell_type": "code",
   "execution_count": 9,
   "metadata": {},
   "outputs": [],
   "source": [
    "import pymongo"
   ]
  },
  {
   "cell_type": "code",
   "execution_count": 3,
   "metadata": {},
   "outputs": [
    {
     "data": {
      "text/plain": [
       "['goods', 'commercial_ships', 'pirates2', 'system.version']"
      ]
     },
     "execution_count": 3,
     "metadata": {},
     "output_type": "execute_result"
    }
   ],
   "source": [
    "from pymongo import MongoClient\n",
    "client = MongoClient(port=27017)\n",
    "db=client.admin\n",
    "# We make a test to check the function is active or not by testing with a query\n",
    "db.list_collection_names()"
   ]
  },
  {
   "cell_type": "code",
   "execution_count": null,
   "metadata": {},
   "outputs": [],
   "source": [
    "#Preparation data:\n",
    "#When we export the data from php myadmin (mySQL), if we have problem with the type of number,if it is a string, we can import the fich json in MongoClien with dataFrame\n",
    "#and we can modify or convert str to int for using the numeric queries\n",
    "#For example, the table goods\n",
    "#import pandas\n",
    "\n",
    "#res = db.goods.find()\n",
    "#df = pandas.DataFrame(list(res))\n",
    "#change the data type of column \"selling_price\" of table goods by command: \n",
    "#df[\"selling_price\"] = pd.to_numeric(df[\"selling_price\"])"
   ]
  },
  {
   "cell_type": "code",
   "execution_count": 4,
   "metadata": {},
   "outputs": [],
   "source": [
    "import pprint"
   ]
  },
  {
   "cell_type": "code",
   "execution_count": 5,
   "metadata": {},
   "outputs": [
    {
     "name": "stdout",
     "output_type": "stream",
     "text": [
      "['0', 'BlackBeard', 'CAPITAIN Jack Sparrow', 'Le Baronnet Noir', 'Mark Read', 'The Assassin', 'The Mad Python', 'The Mighty Woman', 'The Next Pirate King', 'The drunk Pirate']\n"
     ]
    }
   ],
   "source": [
    "#Query 1: List all of distinct surname of pirate\n",
    "Q1 = db.pirates2.distinct(\"surname_pirate\")\n",
    "print(Q1)"
   ]
  },
  {
   "cell_type": "code",
   "execution_count": 6,
   "metadata": {},
   "outputs": [
    {
     "name": "stdout",
     "output_type": "stream",
     "text": [
      "{'_id': ObjectId('6086b055b4caec82d420bcb1'),\n",
      " 'id_commercial_ship': 122,\n",
      " 'id_good': 20,\n",
      " 'id_supplier': 139,\n",
      " 'label_good': 'pomegranates',\n",
      " 'purchase_price': 51,\n",
      " 'quantity_goods_transported': 21,\n",
      " 'selling_price': 81}\n"
     ]
    }
   ],
   "source": [
    "#Query2: Display full-information of pomegranates\n",
    "Q2 = db.goods.find({\"label_good\":\"pomegranates\"} )\n",
    "for r in Q2:\n",
    "    pprint.pprint(r)"
   ]
  },
  {
   "cell_type": "code",
   "execution_count": 7,
   "metadata": {},
   "outputs": [
    {
     "name": "stdout",
     "output_type": "stream",
     "text": [
      "{'_id': ObjectId('6086cdb2b4caec82d420bd15'),\n",
      " 'haul': 27,\n",
      " 'id_commercial_ship': 121,\n",
      " 'id_convoy': 1000,\n",
      " 'id_crew': 1,\n",
      " 'size': 89}\n",
      "{'_id': ObjectId('6086cdb2b4caec82d420bd16'),\n",
      " 'haul': 32,\n",
      " 'id_commercial_ship': 122,\n",
      " 'id_convoy': 1001,\n",
      " 'id_crew': 2,\n",
      " 'size': 97}\n",
      "{'_id': ObjectId('6086cdb2b4caec82d420bd18'),\n",
      " 'haul': 28,\n",
      " 'id_commercial_ship': 124,\n",
      " 'id_convoy': 1003,\n",
      " 'id_crew': 4,\n",
      " 'size': 80}\n",
      "{'_id': ObjectId('6086cdb2b4caec82d420bd19'),\n",
      " 'haul': 29,\n",
      " 'id_commercial_ship': 125,\n",
      " 'id_convoy': 1004,\n",
      " 'id_crew': 5,\n",
      " 'size': 91}\n",
      "{'_id': ObjectId('6086cdb2b4caec82d420bd1a'),\n",
      " 'haul': 31,\n",
      " 'id_commercial_ship': 126,\n",
      " 'id_convoy': 1005,\n",
      " 'id_crew': 11,\n",
      " 'size': 72}\n",
      "{'_id': ObjectId('6086cdb2b4caec82d420bd1b'),\n",
      " 'haul': 35,\n",
      " 'id_commercial_ship': 127,\n",
      " 'id_convoy': 1006,\n",
      " 'id_crew': 12,\n",
      " 'size': 91}\n",
      "{'_id': ObjectId('6086cdb2b4caec82d420bd1c'),\n",
      " 'haul': 32,\n",
      " 'id_commercial_ship': 128,\n",
      " 'id_convoy': 1007,\n",
      " 'id_crew': 13,\n",
      " 'size': 85}\n",
      "{'_id': ObjectId('6086cdb2b4caec82d420bd1d'),\n",
      " 'haul': 37,\n",
      " 'id_commercial_ship': 129,\n",
      " 'id_convoy': 1008,\n",
      " 'id_crew': 14,\n",
      " 'size': 79}\n",
      "{'_id': ObjectId('6086cdb2b4caec82d420bd1e'),\n",
      " 'haul': 38,\n",
      " 'id_commercial_ship': 130,\n",
      " 'id_convoy': 1009,\n",
      " 'id_crew': 15,\n",
      " 'size': 91}\n"
     ]
    }
   ],
   "source": [
    "#Query 3: Find name of commercial ship that their size is bigger than 70, in this question, we can display the result with only name,\n",
    "#or we can show full information of this ship\n",
    "Q3 = db.commercial_ships.find({\"size\": { \"$gt\": 70 }})\n",
    "for r in Q3:\n",
    "    pprint.pprint(r)"
   ]
  },
  {
   "cell_type": "code",
   "execution_count": 18,
   "metadata": {},
   "outputs": [
    {
     "name": "stdout",
     "output_type": "stream",
     "text": [
      "{'id_pirates': 1, 'name_pirate': 'Monkey D.Luffy'}\n",
      "{'id_pirates': 8, 'name_pirate': 'Bartolomew Roberts'}\n"
     ]
    }
   ],
   "source": [
    "# Query 4: Find name of pirate who captured more than 10 ships, display the result by descending\n",
    "Q4 = db.pirates2.find({\"nbr_ship\": {\"$gt\":10 }}, {\"_id\": 0, \"id_pirates\": 1, \"name_pirate\": 1})\n",
    "Q4_tri = Q4.sort(\"nbr_ship\", pymongo.DESCENDING)\n",
    "for i in Q4_tri:\n",
    "    pprint.pprint(i)"
   ]
  },
  {
   "cell_type": "code",
   "execution_count": 17,
   "metadata": {},
   "outputs": [
    {
     "name": "stdout",
     "output_type": "stream",
     "text": [
      "{'_id': None, 'price_moyenne': 75.65, 'total_produits': 4961}\n"
     ]
    }
   ],
   "source": [
    "# Query 5: Find the total produit transported, and averagate selling price of all goods \n",
    "Q5 = db.goods.aggregate([{\"$group\": {\"_id\": \"$id_commercial_ships\", \"total_produits\" : {\"$sum\": \"$quantity_goods_transported\"},\"price_moyenne\":{\"$avg\": \"$selling_price\"} }}])\n",
    "for i in Q5:\n",
    "    pprint.pprint(i)"
   ]
  },
  {
   "cell_type": "code",
   "execution_count": null,
   "metadata": {},
   "outputs": [],
   "source": []
  }
 ],
 "metadata": {
  "kernelspec": {
   "display_name": "Python 3",
   "language": "python",
   "name": "python3"
  },
  "language_info": {
   "codemirror_mode": {
    "name": "ipython",
    "version": 3
   },
   "file_extension": ".py",
   "mimetype": "text/x-python",
   "name": "python",
   "nbconvert_exporter": "python",
   "pygments_lexer": "ipython3",
   "version": "3.7.9"
  }
 },
 "nbformat": 4,
 "nbformat_minor": 4
}
